{
  "cells": [
    {
      "attachments": {},
      "cell_type": "markdown",
      "metadata": {
        "id": "TdpPHz2Lp6VD"
      },
      "source": [
        "# TP Coding autoencoders and variational autoencoders in Pytorch\n",
        "\n",
        "\n",
        "## Objective:\n",
        "\n",
        "The goal of this TP is to explore autoencoders and variational autoencoders applied to a simple dataset. In this first part, we will look at an autoencoder applied to MNIST. We recall that an autoencoder is a neural network with the following general architecture:\n",
        "\n",
        "\n",
        "![AUTOENCODER](https://perso.telecom-paristech.fr/anewson/doc/images/autoencoder_illustration_2.png)\n",
        "\n",
        "The tensor $z$ in the middle of the network is called a __latent code__, and it belongs to the latent space. It is this latent space which is interesting in autoencoders (for image synthesis, editing, etc).\n",
        "\n",
        "### Your task:\n",
        "You need to add the missing parts in the code (parts between # --- START CODE HERE and # --- END CODE HERE or # FILL IN CODE)\n",
        "\n",
        "\n",
        "First of all, let's load some packages"
      ]
    },
    {
      "cell_type": "code",
      "execution_count": 24,
      "metadata": {
        "id": "JqNeIJ8Op8Ao"
      },
      "outputs": [],
      "source": [
        "import torch\n",
        "import torch.nn as nn\n",
        "import torch.nn.functional as F\n",
        "import torch.optim as optim\n",
        "from torchvision import datasets, transforms\n",
        "from torch.autograd import Variable\n",
        "from torchvision.utils import save_image\n",
        "\n",
        "import pdb\n",
        "import numpy as np\n",
        "import matplotlib.pyplot as plt\n",
        "\n",
        "def pytorch_to_numpy(x):\n",
        "  return x.detach().numpy()"
      ]
    },
    {
      "attachments": {},
      "cell_type": "markdown",
      "metadata": {
        "id": "Hyj5dj_eui9D"
      },
      "source": [
        "First, we load the mnist dataset."
      ]
    },
    {
      "cell_type": "code",
      "execution_count": 25,
      "metadata": {
        "id": "4YPLKlPrufSk"
      },
      "outputs": [],
      "source": [
        "\n",
        "batch_size = 128\n",
        "\n",
        "# MNIST Dataset\n",
        "mnist_trainset = datasets.MNIST(root='./mnist_data/', train=True, transform=transforms.ToTensor(), download=True)\n",
        "mnist_testset = datasets.MNIST(root='./mnist_data/', train=False, transform=transforms.ToTensor(), download=False)\n",
        "\n",
        "#create data loader with smaller dataset size\n",
        "max_mnist_size = 1000\n",
        "mnist_trainset_reduced = torch.utils.data.random_split(mnist_trainset, [max_mnist_size, len(mnist_trainset)-max_mnist_size])[0] \n",
        "mnist_train_loader = torch.utils.data.DataLoader(mnist_trainset_reduced, batch_size=batch_size, shuffle=True,drop_last=True)\n",
        "\n",
        "# download test dataset\n",
        "max_mnist_size = 512\n",
        "mnist_testset_reduced = torch.utils.data.random_split(mnist_testset, [max_mnist_size, len(mnist_testset)-max_mnist_size])[0] \n",
        "mnist_test_loader = torch.utils.data.DataLoader(mnist_testset_reduced, batch_size=batch_size, shuffle=True,drop_last=True)\n"
      ]
    },
    {
      "cell_type": "code",
      "execution_count": 26,
      "metadata": {
        "id": "r7YhlBT2PN9I"
      },
      "outputs": [
        {
          "data": {
            "text/plain": [
              "torch.Size([60000, 28, 28])"
            ]
          },
          "execution_count": 26,
          "metadata": {},
          "output_type": "execute_result"
        }
      ],
      "source": [
        "mnist_trainset_reduced.dataset.data.shape"
      ]
    },
    {
      "attachments": {},
      "cell_type": "markdown",
      "metadata": {
        "id": "t-bkK4ktwfvC"
      },
      "source": [
        "# 1 Vanilla Autoencoder\n",
        "\n",
        "Now, we define the general parameters of the autoencoder"
      ]
    },
    {
      "cell_type": "code",
      "execution_count": 27,
      "metadata": {
        "id": "mD56EDzbvUxq"
      },
      "outputs": [],
      "source": [
        "# autoencoder parameters\n",
        "n_rows = mnist_trainset_reduced.dataset.data.shape[1]\n",
        "n_cols = mnist_trainset_reduced.dataset.data.shape[2]\n",
        "n_channels = 1\n",
        "n_pixels = n_rows*n_cols\n",
        "\n",
        "img_shape = (n_rows, n_cols, n_channels)\n",
        "n_epochs = 150"
      ]
    },
    {
      "attachments": {},
      "cell_type": "markdown",
      "metadata": {
        "id": "6jLa2-jQwxSI"
      },
      "source": [
        "Now, define the autoencoder architecture. In the first part, we will use the following MLP architecture :\n",
        "\n",
        "Encoder :\n",
        "- Flatten input\n",
        "- Dense layer, output size h_dim_1 + ReLU\n",
        "- Dense layer, output size h_dim_2 + ReLU\n",
        "- Dense layer, output size z_dim (no non-linearity)\n",
        "\n",
        "Decoder :\n",
        "- Dense layer, output size h_dim_2 + ReLU\n",
        "- Dense layer, output size h_dim_1 + ReLU\n",
        "- Dense layer, output size x_dim + Sigmoid Activation\n",
        "- Reshape, to size $28\\times 28\\times 1$\n",
        "\n",
        "For the Reshape operation, use the ```A.view(dim_1,dim_2,...)``` function, where ```A``` is your tensor."
      ]
    },
    {
      "cell_type": "code",
      "execution_count": 28,
      "metadata": {},
      "outputs": [
        {
          "name": "stdout",
          "output_type": "stream",
          "text": [
            "Image shape:  (28, 28, 1)\n",
            "Number of pixels:  784\n",
            "Number of rows:  28\n",
            "Number of columns:  28\n",
            "Number of channels:  1\n"
          ]
        }
      ],
      "source": [
        "print(\"Image shape: \", img_shape)\n",
        "print(\"Number of pixels: \", n_pixels)\n",
        "print(\"Number of rows: \", n_rows)\n",
        "print(\"Number of columns: \", n_cols)\n",
        "print(\"Number of channels: \", n_channels)\n"
      ]
    },
    {
      "cell_type": "code",
      "execution_count": 29,
      "metadata": {
        "id": "tEuZfnUlXxMl"
      },
      "outputs": [],
      "source": [
        "class AE(torch.nn.Module ):\n",
        "  def __init__(self, x_dim, h_dim1, h_dim2, z_dim,n_rows,n_cols,n_channels):\n",
        "    super(AE, self).__init__()\n",
        "\n",
        "    self.n_rows = n_rows\n",
        "    self.n_cols = n_cols\n",
        "    self.n_channels = n_channels\n",
        "    self.n_pixels = (self.n_rows)*(self.n_cols)\n",
        "    self.z_dim = z_dim\n",
        "\n",
        "    # encoder part\n",
        "    self.fc1 = nn.Linear (self.n_pixels, h_dim1) # FILL IN CODE HERE\n",
        "    self.fc2 = nn.Linear (h_dim1, h_dim2)# FILL IN CODE HERE\n",
        "    self.fc3 = nn.Linear (h_dim2, z_dim) # FILL IN CODE HERE \n",
        "    # decoder part\n",
        "    self.fc4 = nn.Linear (z_dim, h_dim2) # FILL IN CODE HERE\n",
        "    self.fc5 = nn.Linear (h_dim2, h_dim1) # FILL IN CODE HERE\n",
        "    self.fc6 = nn.Linear (h_dim1, x_dim) # FILL IN CODE HERE \n",
        "\n",
        "  def encoder(self, x):\n",
        "    h = x.view((-1, self.n_pixels)) # FILL IN CODE HERE\n",
        "    # h = torch.nn.Sequential(self.fc1(x),self.fc2(x),self.fc3(x)) # FILL IN CODE HERE\n",
        "    h = F.relu(self.fc1(h)) # FILL IN CODE HERE\n",
        "    h = F.relu(self.fc2(h)) # FILL IN CODE HERE\n",
        "    h = self.fc3(h) # FILL IN CODE HERE\n",
        "    return h # FILL IN CODE HERE\n",
        "  \n",
        "  def decoder(self, z):\n",
        "    \n",
        "    # h = torch.nn.Sequential(self.fc4(z),self.fc5(z),self.fc6(z)) # FILL IN CODE HERE\n",
        "    # h = h.view((self.)) \n",
        "    h = F.relu(self.fc4(z)) # FILL IN CODE HERE\n",
        "    h = F.relu(self.fc5(h)) # FILL IN CODE HERE\n",
        "    h = torch.sigmoid(self.fc6(h)) # FILL IN CODE HERE\n",
        "    \n",
        "    h = h.view((-1, self.n_channels, self.n_rows, self.n_cols)) # FILL IN CODE HERE\n",
        "    return h # FILL IN CODE HERE\n",
        "  def forward(self, x):\n",
        "    y = self.decoder(self.encoder(x))  # FILL IN CODE HERE\n",
        "    return(y)\n",
        "  def loss_function(self,x, y):\n",
        "    bce_loss = F.binary_cross_entropy(y.view(-1, self.n_pixels), x, reduction='none') # FILL IN CODE HERE\n",
        "    # FILL IN CODE HERE\n",
        "    return torch.mean(bce_loss)"
      ]
    },
    {
      "cell_type": "code",
      "execution_count": 30,
      "metadata": {
        "id": "oV40vRMQRoG1"
      },
      "outputs": [],
      "source": [
        "# create model\n",
        "ae_dim_1 = 512\n",
        "ae_dim_2 = 256\n",
        "z_dim = 10\n",
        "ae_model = AE(x_dim=n_pixels, h_dim1= ae_dim_1, h_dim2=ae_dim_2, z_dim=z_dim,n_rows=n_rows,n_cols=n_cols,n_channels=n_channels)\n",
        "ae_optimizer = optim.Adam(ae_model.parameters())"
      ]
    },
    {
      "attachments": {},
      "cell_type": "markdown",
      "metadata": {
        "id": "-659aM36xvXX"
      },
      "source": [
        "Now, define a generic function to train the model for one epoch"
      ]
    },
    {
      "cell_type": "code",
      "execution_count": 31,
      "metadata": {
        "id": "wfqX6Brlxjyi"
      },
      "outputs": [],
      "source": [
        "def train_ae(ae_model,data_train_loader,epoch):\n",
        "\ttrain_loss = 0\n",
        "\tfor batch_idx, (data, _) in enumerate(data_train_loader):\n",
        "\t\tae_optimizer.zero_grad()\n",
        "\t\t\n",
        "\t\ty = ae_model.forward(data)# FILL IN CODE HERE\n",
        "\t\tloss_ae = ae_model.loss_function(data.view(-1, n_pixels),y) # FILL IN CODE HERE\n",
        "  \n",
        "\t\tloss_ae.backward()\n",
        "\t\ttrain_loss += loss_ae.item()\n",
        "\t\tae_optimizer.step()\n",
        "\t\t\n",
        "\t\tif batch_idx % 100 == 0:\n",
        "\t\t\tprint('Train Epoch: {} [{}/{} ({:.0f}%)]\\tLoss: {:.6f}'.format(\n",
        "\t\t\t\tepoch, batch_idx * len(data), len(data_train_loader.dataset),\n",
        "\t\t\t\t100. * batch_idx / len(data_train_loader), loss_ae.item() / len(data)))\n",
        "\tprint('====> Epoch: {} Average loss: {:.4f}'.format(epoch, train_loss / len(data_train_loader.dataset)))\n"
      ]
    },
    {
      "attachments": {},
      "cell_type": "markdown",
      "metadata": {
        "id": "w3EbmswSzJdK"
      },
      "source": [
        "We define a function to carry out testing on the autoencoder model"
      ]
    },
    {
      "cell_type": "code",
      "execution_count": 32,
      "metadata": {
        "id": "11q_0PSibZk-"
      },
      "outputs": [
        {
          "name": "stdout",
          "output_type": "stream",
          "text": [
            "Train Epoch: 0 [0/1000 (0%)]\tLoss: 0.005416\n",
            "====> Epoch: 0 Average loss: 0.0043\n",
            "Train Epoch: 1 [0/1000 (0%)]\tLoss: 0.003011\n",
            "====> Epoch: 1 Average loss: 0.0024\n",
            "Train Epoch: 2 [0/1000 (0%)]\tLoss: 0.002241\n",
            "====> Epoch: 2 Average loss: 0.0020\n",
            "Train Epoch: 3 [0/1000 (0%)]\tLoss: 0.002142\n",
            "====> Epoch: 3 Average loss: 0.0019\n",
            "Train Epoch: 4 [0/1000 (0%)]\tLoss: 0.002064\n",
            "====> Epoch: 4 Average loss: 0.0018\n",
            "Train Epoch: 5 [0/1000 (0%)]\tLoss: 0.002111\n",
            "====> Epoch: 5 Average loss: 0.0018\n",
            "Train Epoch: 6 [0/1000 (0%)]\tLoss: 0.001992\n",
            "====> Epoch: 6 Average loss: 0.0018\n",
            "Train Epoch: 7 [0/1000 (0%)]\tLoss: 0.002012\n",
            "====> Epoch: 7 Average loss: 0.0018\n",
            "Train Epoch: 8 [0/1000 (0%)]\tLoss: 0.002012\n",
            "====> Epoch: 8 Average loss: 0.0018\n",
            "Train Epoch: 9 [0/1000 (0%)]\tLoss: 0.001987\n",
            "====> Epoch: 9 Average loss: 0.0018\n",
            "Train Epoch: 10 [0/1000 (0%)]\tLoss: 0.001977\n",
            "====> Epoch: 10 Average loss: 0.0017\n",
            "Train Epoch: 11 [0/1000 (0%)]\tLoss: 0.001981\n",
            "====> Epoch: 11 Average loss: 0.0017\n",
            "Train Epoch: 12 [0/1000 (0%)]\tLoss: 0.001965\n",
            "====> Epoch: 12 Average loss: 0.0017\n",
            "Train Epoch: 13 [0/1000 (0%)]\tLoss: 0.001864\n",
            "====> Epoch: 13 Average loss: 0.0017\n",
            "Train Epoch: 14 [0/1000 (0%)]\tLoss: 0.001770\n",
            "====> Epoch: 14 Average loss: 0.0016\n",
            "Train Epoch: 15 [0/1000 (0%)]\tLoss: 0.001775\n",
            "====> Epoch: 15 Average loss: 0.0016\n",
            "Train Epoch: 16 [0/1000 (0%)]\tLoss: 0.001673\n",
            "====> Epoch: 16 Average loss: 0.0016\n",
            "Train Epoch: 17 [0/1000 (0%)]\tLoss: 0.001687\n",
            "====> Epoch: 17 Average loss: 0.0015\n",
            "Train Epoch: 18 [0/1000 (0%)]\tLoss: 0.001587\n",
            "====> Epoch: 18 Average loss: 0.0014\n",
            "Train Epoch: 19 [0/1000 (0%)]\tLoss: 0.001596\n",
            "====> Epoch: 19 Average loss: 0.0014\n",
            "Train Epoch: 20 [0/1000 (0%)]\tLoss: 0.001516\n",
            "====> Epoch: 20 Average loss: 0.0013\n",
            "Train Epoch: 21 [0/1000 (0%)]\tLoss: 0.001493\n",
            "====> Epoch: 21 Average loss: 0.0013\n",
            "Train Epoch: 22 [0/1000 (0%)]\tLoss: 0.001403\n",
            "====> Epoch: 22 Average loss: 0.0013\n",
            "Train Epoch: 23 [0/1000 (0%)]\tLoss: 0.001388\n",
            "====> Epoch: 23 Average loss: 0.0012\n",
            "Train Epoch: 24 [0/1000 (0%)]\tLoss: 0.001323\n",
            "====> Epoch: 24 Average loss: 0.0012\n",
            "Train Epoch: 25 [0/1000 (0%)]\tLoss: 0.001307\n",
            "====> Epoch: 25 Average loss: 0.0012\n",
            "Train Epoch: 26 [0/1000 (0%)]\tLoss: 0.001336\n",
            "====> Epoch: 26 Average loss: 0.0012\n",
            "Train Epoch: 27 [0/1000 (0%)]\tLoss: 0.001248\n",
            "====> Epoch: 27 Average loss: 0.0011\n",
            "Train Epoch: 28 [0/1000 (0%)]\tLoss: 0.001211\n",
            "====> Epoch: 28 Average loss: 0.0011\n",
            "Train Epoch: 29 [0/1000 (0%)]\tLoss: 0.001179\n",
            "====> Epoch: 29 Average loss: 0.0011\n",
            "Train Epoch: 30 [0/1000 (0%)]\tLoss: 0.001238\n",
            "====> Epoch: 30 Average loss: 0.0011\n",
            "Train Epoch: 31 [0/1000 (0%)]\tLoss: 0.001182\n",
            "====> Epoch: 31 Average loss: 0.0011\n",
            "Train Epoch: 32 [0/1000 (0%)]\tLoss: 0.001171\n",
            "====> Epoch: 32 Average loss: 0.0010\n",
            "Train Epoch: 33 [0/1000 (0%)]\tLoss: 0.001126\n",
            "====> Epoch: 33 Average loss: 0.0010\n",
            "Train Epoch: 34 [0/1000 (0%)]\tLoss: 0.001211\n",
            "====> Epoch: 34 Average loss: 0.0010\n",
            "Train Epoch: 35 [0/1000 (0%)]\tLoss: 0.001131\n",
            "====> Epoch: 35 Average loss: 0.0010\n",
            "Train Epoch: 36 [0/1000 (0%)]\tLoss: 0.001110\n",
            "====> Epoch: 36 Average loss: 0.0010\n",
            "Train Epoch: 37 [0/1000 (0%)]\tLoss: 0.001121\n",
            "====> Epoch: 37 Average loss: 0.0010\n",
            "Train Epoch: 38 [0/1000 (0%)]\tLoss: 0.001140\n",
            "====> Epoch: 38 Average loss: 0.0010\n",
            "Train Epoch: 39 [0/1000 (0%)]\tLoss: 0.001121\n",
            "====> Epoch: 39 Average loss: 0.0010\n",
            "Train Epoch: 40 [0/1000 (0%)]\tLoss: 0.001037\n",
            "====> Epoch: 40 Average loss: 0.0010\n",
            "Train Epoch: 41 [0/1000 (0%)]\tLoss: 0.001090\n",
            "====> Epoch: 41 Average loss: 0.0010\n",
            "Train Epoch: 42 [0/1000 (0%)]\tLoss: 0.001066\n",
            "====> Epoch: 42 Average loss: 0.0010\n",
            "Train Epoch: 43 [0/1000 (0%)]\tLoss: 0.001035\n",
            "====> Epoch: 43 Average loss: 0.0009\n",
            "Train Epoch: 44 [0/1000 (0%)]\tLoss: 0.001079\n",
            "====> Epoch: 44 Average loss: 0.0009\n",
            "Train Epoch: 45 [0/1000 (0%)]\tLoss: 0.001043\n",
            "====> Epoch: 45 Average loss: 0.0009\n",
            "Train Epoch: 46 [0/1000 (0%)]\tLoss: 0.001080\n",
            "====> Epoch: 46 Average loss: 0.0009\n",
            "Train Epoch: 47 [0/1000 (0%)]\tLoss: 0.000990\n",
            "====> Epoch: 47 Average loss: 0.0009\n",
            "Train Epoch: 48 [0/1000 (0%)]\tLoss: 0.001006\n",
            "====> Epoch: 48 Average loss: 0.0009\n",
            "Train Epoch: 49 [0/1000 (0%)]\tLoss: 0.001001\n",
            "====> Epoch: 49 Average loss: 0.0009\n",
            "Train Epoch: 50 [0/1000 (0%)]\tLoss: 0.000973\n",
            "====> Epoch: 50 Average loss: 0.0009\n",
            "Train Epoch: 51 [0/1000 (0%)]\tLoss: 0.000999\n",
            "====> Epoch: 51 Average loss: 0.0009\n",
            "Train Epoch: 52 [0/1000 (0%)]\tLoss: 0.001018\n",
            "====> Epoch: 52 Average loss: 0.0009\n",
            "Train Epoch: 53 [0/1000 (0%)]\tLoss: 0.000942\n",
            "====> Epoch: 53 Average loss: 0.0009\n",
            "Train Epoch: 54 [0/1000 (0%)]\tLoss: 0.000989\n",
            "====> Epoch: 54 Average loss: 0.0009\n",
            "Train Epoch: 55 [0/1000 (0%)]\tLoss: 0.000938\n",
            "====> Epoch: 55 Average loss: 0.0008\n",
            "Train Epoch: 56 [0/1000 (0%)]\tLoss: 0.000937\n",
            "====> Epoch: 56 Average loss: 0.0009\n",
            "Train Epoch: 57 [0/1000 (0%)]\tLoss: 0.000904\n",
            "====> Epoch: 57 Average loss: 0.0008\n",
            "Train Epoch: 58 [0/1000 (0%)]\tLoss: 0.000930\n",
            "====> Epoch: 58 Average loss: 0.0008\n",
            "Train Epoch: 59 [0/1000 (0%)]\tLoss: 0.000908\n",
            "====> Epoch: 59 Average loss: 0.0008\n",
            "Train Epoch: 60 [0/1000 (0%)]\tLoss: 0.000893\n",
            "====> Epoch: 60 Average loss: 0.0008\n",
            "Train Epoch: 61 [0/1000 (0%)]\tLoss: 0.000910\n",
            "====> Epoch: 61 Average loss: 0.0008\n",
            "Train Epoch: 62 [0/1000 (0%)]\tLoss: 0.000872\n",
            "====> Epoch: 62 Average loss: 0.0008\n",
            "Train Epoch: 63 [0/1000 (0%)]\tLoss: 0.000879\n",
            "====> Epoch: 63 Average loss: 0.0008\n",
            "Train Epoch: 64 [0/1000 (0%)]\tLoss: 0.000927\n",
            "====> Epoch: 64 Average loss: 0.0008\n",
            "Train Epoch: 65 [0/1000 (0%)]\tLoss: 0.000890\n",
            "====> Epoch: 65 Average loss: 0.0008\n",
            "Train Epoch: 66 [0/1000 (0%)]\tLoss: 0.000854\n",
            "====> Epoch: 66 Average loss: 0.0008\n",
            "Train Epoch: 67 [0/1000 (0%)]\tLoss: 0.000867\n",
            "====> Epoch: 67 Average loss: 0.0008\n",
            "Train Epoch: 68 [0/1000 (0%)]\tLoss: 0.000879\n",
            "====> Epoch: 68 Average loss: 0.0008\n",
            "Train Epoch: 69 [0/1000 (0%)]\tLoss: 0.000894\n",
            "====> Epoch: 69 Average loss: 0.0008\n",
            "Train Epoch: 70 [0/1000 (0%)]\tLoss: 0.000861\n",
            "====> Epoch: 70 Average loss: 0.0008\n",
            "Train Epoch: 71 [0/1000 (0%)]\tLoss: 0.000891\n",
            "====> Epoch: 71 Average loss: 0.0008\n",
            "Train Epoch: 72 [0/1000 (0%)]\tLoss: 0.000875\n",
            "====> Epoch: 72 Average loss: 0.0008\n",
            "Train Epoch: 73 [0/1000 (0%)]\tLoss: 0.000860\n",
            "====> Epoch: 73 Average loss: 0.0008\n",
            "Train Epoch: 74 [0/1000 (0%)]\tLoss: 0.000830\n",
            "====> Epoch: 74 Average loss: 0.0008\n",
            "Train Epoch: 75 [0/1000 (0%)]\tLoss: 0.000886\n",
            "====> Epoch: 75 Average loss: 0.0008\n",
            "Train Epoch: 76 [0/1000 (0%)]\tLoss: 0.000812\n",
            "====> Epoch: 76 Average loss: 0.0007\n",
            "Train Epoch: 77 [0/1000 (0%)]\tLoss: 0.000802\n",
            "====> Epoch: 77 Average loss: 0.0007\n",
            "Train Epoch: 78 [0/1000 (0%)]\tLoss: 0.000824\n",
            "====> Epoch: 78 Average loss: 0.0007\n",
            "Train Epoch: 79 [0/1000 (0%)]\tLoss: 0.000796\n",
            "====> Epoch: 79 Average loss: 0.0007\n",
            "Train Epoch: 80 [0/1000 (0%)]\tLoss: 0.000797\n",
            "====> Epoch: 80 Average loss: 0.0007\n",
            "Train Epoch: 81 [0/1000 (0%)]\tLoss: 0.000820\n",
            "====> Epoch: 81 Average loss: 0.0007\n",
            "Train Epoch: 82 [0/1000 (0%)]\tLoss: 0.000841\n",
            "====> Epoch: 82 Average loss: 0.0007\n",
            "Train Epoch: 83 [0/1000 (0%)]\tLoss: 0.000807\n",
            "====> Epoch: 83 Average loss: 0.0007\n",
            "Train Epoch: 84 [0/1000 (0%)]\tLoss: 0.000776\n",
            "====> Epoch: 84 Average loss: 0.0007\n",
            "Train Epoch: 85 [0/1000 (0%)]\tLoss: 0.000773\n",
            "====> Epoch: 85 Average loss: 0.0007\n",
            "Train Epoch: 86 [0/1000 (0%)]\tLoss: 0.000809\n",
            "====> Epoch: 86 Average loss: 0.0007\n",
            "Train Epoch: 87 [0/1000 (0%)]\tLoss: 0.000740\n",
            "====> Epoch: 87 Average loss: 0.0007\n",
            "Train Epoch: 88 [0/1000 (0%)]\tLoss: 0.000785\n",
            "====> Epoch: 88 Average loss: 0.0007\n",
            "Train Epoch: 89 [0/1000 (0%)]\tLoss: 0.000793\n",
            "====> Epoch: 89 Average loss: 0.0007\n",
            "Train Epoch: 90 [0/1000 (0%)]\tLoss: 0.000762\n",
            "====> Epoch: 90 Average loss: 0.0007\n",
            "Train Epoch: 91 [0/1000 (0%)]\tLoss: 0.000784\n",
            "====> Epoch: 91 Average loss: 0.0007\n",
            "Train Epoch: 92 [0/1000 (0%)]\tLoss: 0.000796\n",
            "====> Epoch: 92 Average loss: 0.0007\n",
            "Train Epoch: 93 [0/1000 (0%)]\tLoss: 0.000792\n",
            "====> Epoch: 93 Average loss: 0.0007\n",
            "Train Epoch: 94 [0/1000 (0%)]\tLoss: 0.000755\n",
            "====> Epoch: 94 Average loss: 0.0007\n",
            "Train Epoch: 95 [0/1000 (0%)]\tLoss: 0.000757\n",
            "====> Epoch: 95 Average loss: 0.0007\n",
            "Train Epoch: 96 [0/1000 (0%)]\tLoss: 0.000768\n",
            "====> Epoch: 96 Average loss: 0.0007\n",
            "Train Epoch: 97 [0/1000 (0%)]\tLoss: 0.000761\n",
            "====> Epoch: 97 Average loss: 0.0007\n",
            "Train Epoch: 98 [0/1000 (0%)]\tLoss: 0.000743\n",
            "====> Epoch: 98 Average loss: 0.0007\n",
            "Train Epoch: 99 [0/1000 (0%)]\tLoss: 0.000770\n",
            "====> Epoch: 99 Average loss: 0.0007\n",
            "Train Epoch: 100 [0/1000 (0%)]\tLoss: 0.000744\n",
            "====> Epoch: 100 Average loss: 0.0007\n",
            "Train Epoch: 101 [0/1000 (0%)]\tLoss: 0.000758\n",
            "====> Epoch: 101 Average loss: 0.0007\n",
            "Train Epoch: 102 [0/1000 (0%)]\tLoss: 0.000722\n",
            "====> Epoch: 102 Average loss: 0.0007\n",
            "Train Epoch: 103 [0/1000 (0%)]\tLoss: 0.000725\n",
            "====> Epoch: 103 Average loss: 0.0007\n",
            "Train Epoch: 104 [0/1000 (0%)]\tLoss: 0.000734\n",
            "====> Epoch: 104 Average loss: 0.0007\n",
            "Train Epoch: 105 [0/1000 (0%)]\tLoss: 0.000733\n",
            "====> Epoch: 105 Average loss: 0.0007\n",
            "Train Epoch: 106 [0/1000 (0%)]\tLoss: 0.000731\n",
            "====> Epoch: 106 Average loss: 0.0007\n",
            "Train Epoch: 107 [0/1000 (0%)]\tLoss: 0.000714\n",
            "====> Epoch: 107 Average loss: 0.0007\n",
            "Train Epoch: 108 [0/1000 (0%)]\tLoss: 0.000715\n",
            "====> Epoch: 108 Average loss: 0.0007\n",
            "Train Epoch: 109 [0/1000 (0%)]\tLoss: 0.000749\n",
            "====> Epoch: 109 Average loss: 0.0006\n",
            "Train Epoch: 110 [0/1000 (0%)]\tLoss: 0.000725\n",
            "====> Epoch: 110 Average loss: 0.0006\n",
            "Train Epoch: 111 [0/1000 (0%)]\tLoss: 0.000708\n",
            "====> Epoch: 111 Average loss: 0.0006\n",
            "Train Epoch: 112 [0/1000 (0%)]\tLoss: 0.000705\n",
            "====> Epoch: 112 Average loss: 0.0006\n",
            "Train Epoch: 113 [0/1000 (0%)]\tLoss: 0.000734\n",
            "====> Epoch: 113 Average loss: 0.0006\n",
            "Train Epoch: 114 [0/1000 (0%)]\tLoss: 0.000695\n",
            "====> Epoch: 114 Average loss: 0.0006\n",
            "Train Epoch: 115 [0/1000 (0%)]\tLoss: 0.000696\n",
            "====> Epoch: 115 Average loss: 0.0006\n",
            "Train Epoch: 116 [0/1000 (0%)]\tLoss: 0.000683\n",
            "====> Epoch: 116 Average loss: 0.0006\n",
            "Train Epoch: 117 [0/1000 (0%)]\tLoss: 0.000686\n",
            "====> Epoch: 117 Average loss: 0.0006\n",
            "Train Epoch: 118 [0/1000 (0%)]\tLoss: 0.000707\n",
            "====> Epoch: 118 Average loss: 0.0006\n",
            "Train Epoch: 119 [0/1000 (0%)]\tLoss: 0.000686\n",
            "====> Epoch: 119 Average loss: 0.0006\n",
            "Train Epoch: 120 [0/1000 (0%)]\tLoss: 0.000696\n",
            "====> Epoch: 120 Average loss: 0.0006\n",
            "Train Epoch: 121 [0/1000 (0%)]\tLoss: 0.000680\n",
            "====> Epoch: 121 Average loss: 0.0006\n",
            "Train Epoch: 122 [0/1000 (0%)]\tLoss: 0.000680\n",
            "====> Epoch: 122 Average loss: 0.0006\n",
            "Train Epoch: 123 [0/1000 (0%)]\tLoss: 0.000704\n",
            "====> Epoch: 123 Average loss: 0.0006\n",
            "Train Epoch: 124 [0/1000 (0%)]\tLoss: 0.000669\n",
            "====> Epoch: 124 Average loss: 0.0006\n",
            "Train Epoch: 125 [0/1000 (0%)]\tLoss: 0.000677\n",
            "====> Epoch: 125 Average loss: 0.0006\n",
            "Train Epoch: 126 [0/1000 (0%)]\tLoss: 0.000682\n",
            "====> Epoch: 126 Average loss: 0.0006\n",
            "Train Epoch: 127 [0/1000 (0%)]\tLoss: 0.000691\n",
            "====> Epoch: 127 Average loss: 0.0006\n",
            "Train Epoch: 128 [0/1000 (0%)]\tLoss: 0.000669\n",
            "====> Epoch: 128 Average loss: 0.0006\n",
            "Train Epoch: 129 [0/1000 (0%)]\tLoss: 0.000691\n",
            "====> Epoch: 129 Average loss: 0.0006\n",
            "Train Epoch: 130 [0/1000 (0%)]\tLoss: 0.000680\n",
            "====> Epoch: 130 Average loss: 0.0006\n",
            "Train Epoch: 131 [0/1000 (0%)]\tLoss: 0.000693\n",
            "====> Epoch: 131 Average loss: 0.0006\n",
            "Train Epoch: 132 [0/1000 (0%)]\tLoss: 0.000678\n",
            "====> Epoch: 132 Average loss: 0.0006\n",
            "Train Epoch: 133 [0/1000 (0%)]\tLoss: 0.000680\n",
            "====> Epoch: 133 Average loss: 0.0006\n",
            "Train Epoch: 134 [0/1000 (0%)]\tLoss: 0.000674\n",
            "====> Epoch: 134 Average loss: 0.0006\n",
            "Train Epoch: 135 [0/1000 (0%)]\tLoss: 0.000681\n",
            "====> Epoch: 135 Average loss: 0.0006\n",
            "Train Epoch: 136 [0/1000 (0%)]\tLoss: 0.000649\n",
            "====> Epoch: 136 Average loss: 0.0006\n",
            "Train Epoch: 137 [0/1000 (0%)]\tLoss: 0.000627\n",
            "====> Epoch: 137 Average loss: 0.0006\n",
            "Train Epoch: 138 [0/1000 (0%)]\tLoss: 0.000673\n",
            "====> Epoch: 138 Average loss: 0.0006\n",
            "Train Epoch: 139 [0/1000 (0%)]\tLoss: 0.000663\n",
            "====> Epoch: 139 Average loss: 0.0006\n",
            "Train Epoch: 140 [0/1000 (0%)]\tLoss: 0.000648\n",
            "====> Epoch: 140 Average loss: 0.0006\n",
            "Train Epoch: 141 [0/1000 (0%)]\tLoss: 0.000634\n",
            "====> Epoch: 141 Average loss: 0.0006\n",
            "Train Epoch: 142 [0/1000 (0%)]\tLoss: 0.000658\n",
            "====> Epoch: 142 Average loss: 0.0006\n",
            "Train Epoch: 143 [0/1000 (0%)]\tLoss: 0.000641\n",
            "====> Epoch: 143 Average loss: 0.0006\n",
            "Train Epoch: 144 [0/1000 (0%)]\tLoss: 0.000669\n",
            "====> Epoch: 144 Average loss: 0.0006\n",
            "Train Epoch: 145 [0/1000 (0%)]\tLoss: 0.000662\n",
            "====> Epoch: 145 Average loss: 0.0006\n",
            "Train Epoch: 146 [0/1000 (0%)]\tLoss: 0.000648\n",
            "====> Epoch: 146 Average loss: 0.0006\n",
            "Train Epoch: 147 [0/1000 (0%)]\tLoss: 0.000637\n",
            "====> Epoch: 147 Average loss: 0.0006\n",
            "Train Epoch: 148 [0/1000 (0%)]\tLoss: 0.000627\n",
            "====> Epoch: 148 Average loss: 0.0006\n",
            "Train Epoch: 149 [0/1000 (0%)]\tLoss: 0.000646\n",
            "====> Epoch: 149 Average loss: 0.0006\n"
          ]
        }
      ],
      "source": [
        "for epoch in range(0, n_epochs):\n",
        "  train_ae(ae_model,mnist_train_loader,epoch)"
      ]
    },
    {
      "cell_type": "code",
      "execution_count": 33,
      "metadata": {
        "id": "T8jXjdRyzMy2"
      },
      "outputs": [],
      "source": [
        "def display_images(imgs):\n",
        "  \n",
        "  r = 1\n",
        "  c = imgs.shape[0]\n",
        "  fig, axs = plt.subplots(r, c)\n",
        "  for j in range(c):\n",
        "    #black and white images\n",
        "    axs[j].imshow(pytorch_to_numpy(imgs[j, 0,:,:]), cmap='gray')\n",
        "    axs[j].axis('off')\n",
        "  plt.show()\n",
        "\n",
        "def display_ae_images(ae_model, test_imgs):\n",
        "  n_images = 5\n",
        "  idx = np.random.randint(0, test_imgs.shape[0], n_images)\n",
        "  test_imgs = test_imgs[idx,:,:,:]\n",
        "  print(test_imgs.shape)\n",
        "\n",
        "  #get output images\n",
        "  output_imgs = pytorch_to_numpy(ae_model.forward( test_imgs ))\n",
        "  output_imgs = output_imgs.reshape((n_images, n_channels, n_rows, n_cols))\n",
        "  \n",
        "  r = 2\n",
        "  c = n_images\n",
        "  fig, axs = plt.subplots(r, c)\n",
        "  \n",
        "  for j in range(c):\n",
        "    #black and white images\n",
        "    axs[0,j].imshow(test_imgs[j, 0,:,:], cmap='gray')\n",
        "    axs[0,j].axis('off')\n",
        "    axs[1,j].imshow(output_imgs[j, 0,:,:], cmap='gray')\n",
        "    axs[1,j].axis('off')\n",
        "  plt.show()"
      ]
    },
    {
      "cell_type": "code",
      "execution_count": 34,
      "metadata": {
        "id": "9pbXch29d68D"
      },
      "outputs": [
        {
          "name": "stdout",
          "output_type": "stream",
          "text": [
            "torch.Size([5, 1, 28, 28])\n"
          ]
        },
        {
          "data": {
            "image/png": "[encoded data removed]",
            "text/plain": [
              "<Figure size 640x480 with 10 Axes>"
            ]
          },
          "metadata": {},
          "output_type": "display_data"
        }
      ],
      "source": [
        "test_imgs = next(iter(mnist_train_loader))[0]\n",
        "display_ae_images(ae_model, test_imgs)"
      ]
    },
    {
      "attachments": {},
      "cell_type": "markdown",
      "metadata": {
        "id": "assPaJqB5sa-"
      },
      "source": [
        "__Question__ Are you satisfied with the results, do they look good ?"
      ]
    },
    {
      "attachments": {},
      "cell_type": "markdown",
      "metadata": {
        "id": "Q7uoWa4O5x8R"
      },
      "source": [
        "__Answer:__ The results are quite satisfactory, as the images are clear and the digits are accurately reconstructed."
      ]
    },
    {
      "attachments": {},
      "cell_type": "markdown",
      "metadata": {
        "id": "zO9ATQEiyr3b"
      },
      "source": [
        "## 2/ Two simple generative models\n",
        "\n",
        "In this section, we consider two naïve approaches to creating generative models. The general idea is the following:\n",
        "\n",
        "- train an autoencoder\n",
        "- estimate different statistics (average, variance) of the data in the latent space\n",
        "- using these statistics, define a model based on a Gaussian distribution\n",
        "- generate data with this distribution\n",
        "\n",
        "We will consider these two situations :\n",
        "\n",
        "- a multivariate Gaussian distribution with __diagonal covariance matrix__ (each latent component is an independent random variable). This requires the average and variance in each latent component\n",
        "- a multivariate Gaussian distribution with __non-diagonal covariance matrix__. This requires the average and covariance matrix of the latent components\n",
        "\n",
        "Obviously, since this is done _a posteriori_ after training the autoencoder, there is nothing which guarantees that the latent codes do indeed follow a Gaussian distribution. Our goal will be to verify that Variational Autoencoders indeed produce better results than such naïve approaches."
      ]
    },
    {
      "attachments": {},
      "cell_type": "markdown",
      "metadata": {
        "id": "x2M1-BRmf56d"
      },
      "source": [
        "## 2.0 Defining and generating random Gaussian latent codes\n",
        "\n",
        "Let $z$ be a latent code and $d$ the dimension of the latent space (called ``z_dim`` in the code). We suppose that the $z$'s follow a multivariate Gaussian distribution, written as:\n",
        "\n",
        "\\begin{equation}\n",
        "z \\sim \\mathcal{N}\\left(\n",
        "\\mu,\n",
        "\\bf{C}\n",
        "\\right),\n",
        "\\end{equation}\n",
        "where $\\mu$ and $\\bf{C}$ are the average vector and covariance matrix of the Gaussian distribution. To define such a generative model, we must therefore determine $\\mu$ and $\\bf{C}$. Once this is done, we can generate a random Gaussian latent code in the following manner:\n",
        "\n",
        "\\begin{equation}\n",
        "z = \\mu + {\\bf{L}} \\varepsilon,\n",
        "\\end{equation}\n",
        "where $\\varepsilon$ is a random vector drawn from a multivariate normal distribution ($\\mu=0$ and ${\\bf{C}} = \\text{Id}$), and $\\bf{L}$ is the Cholesky decomposition of the positive semi-definite covariance matrix. In other words:\n",
        "\n",
        "\\begin{equation}\n",
        "{\\bf{C}} = {\\bf{L}}{\\bf{L}^T}.\n",
        "\\end{equation}\n",
        "\n",
        "This gives a simple method of producing a multivariate Gaussian random variable."
      ]
    },
    {
      "attachments": {},
      "cell_type": "markdown",
      "metadata": {
        "id": "NWpucm972i7j"
      },
      "source": [
        "## 2.1/ A Gaussian model with diagonal covariance\n",
        "\n",
        "The first naïve model is  defined in this first case as:\n",
        "\n",
        "- $\\bf{\\mu}=\\left[\\mu_0, \\mu_1, \\cdots, \\mu_{d-1}\\right]^T$\n",
        "- $\n",
        "  \\bf{C} = \\begin{pmatrix}\n",
        "\\sigma_0^2 & 0 & \\cdots & 0 \\\\\n",
        "0 & \\sigma_1^2 & \\cdots & 0 \\\\\n",
        "\\vdots & \\ddots & \\ddots & \\vdots \\\\\n",
        "0 & 0 & \\cdots & \\sigma_{d-1}^2\n",
        "\\end{pmatrix}$\n",
        "\n",
        "In this situation, therefore, the matrix $\\bf{L}$ can be calculated quite simply, as:\n",
        "- $\n",
        "  \\bf{L} = \\begin{pmatrix}\n",
        "\\sigma_0 & 0 & \\cdots & 0 \\\\\n",
        "0 & \\sigma_1 & \\cdots & 0 \\\\\n",
        "\\vdots & \\ddots & \\ddots & \\vdots \\\\\n",
        "0 & 0 & \\cdots & \\sigma_{d-1}\n",
        "\\end{pmatrix}$\n",
        "\n",
        "In the next cell, calculate the empirical average and variances over a certain number of batches:"
      ]
    },
    {
      "cell_type": "code",
      "execution_count": 35,
      "metadata": {
        "id": "sUXHCtvW2iQ0"
      },
      "outputs": [
        {
          "name": "stdout",
          "output_type": "stream",
          "text": [
            "Average of latent codes: tensor([-7.9365, -6.8338,  2.0031,  0.3901,  5.6143,  6.1905,  0.8804, -1.2749,\n",
            "        -8.2555, -3.9020], grad_fn=<MeanBackward1>)\n",
            "Standard deviation of latent codes: tensor([ 7.7009,  8.8451,  9.0096,  6.5725,  7.5335, 10.0133,  7.6215,  9.8593,\n",
            "         9.3356, 10.9164], grad_fn=<MeanBackward1>)\n"
          ]
        }
      ],
      "source": [
        "n_batches = np.floor( len(mnist_train_loader.dataset.indices)/batch_size ).astype(int)\n",
        "\n",
        "z_average = torch.zeros(n_batches,ae_model.z_dim)\n",
        "z_sigma = torch.zeros(n_batches,ae_model.z_dim)\n",
        "\n",
        "for batch_idx, (data, _) in enumerate(mnist_train_loader):\n",
        "  z = ae_model.encoder(data)\n",
        "  z_average[batch_idx,:] = torch.mean(z,dim=0) # FILL IN CODE HERE\n",
        "  z_sigma[batch_idx,:] = torch.std(z,dim=0) # FILL IN CODE HERE \n",
        "\n",
        "z_average = torch.mean(z_average, dim=0) # FILL IN CODE HERE\n",
        "z_sigma = torch.mean(z_sigma, dim=0) # FILL IN CODE HERE\n",
        "\n",
        "print(\"Average of latent codes:\",z_average)\n",
        "print(\"Standard deviation of latent codes:\",z_sigma)"
      ]
    },
    {
      "attachments": {},
      "cell_type": "markdown",
      "metadata": {
        "id": "Lrpc62ML9K4l"
      },
      "source": [
        "Now, in the next cell generate data with this simple generative model using the approach described above. Display these images with the ``display_images`` function. \n",
        "\n",
        "__NB__ You do not actually have to define the matrix $\\bf{L}$ in this case, an element-wise multiplication of two (properly chosen) vectors will suffice. To generate multivariate normal random variables you can use the following Pytorch function:\n",
        "\n",
        "- ```torch.randn```\n"
      ]
    },
    {
      "cell_type": "code",
      "execution_count": 101,
      "metadata": {
        "id": "1_Tekii-9QEo"
      },
      "outputs": [
        {
          "data": {
            "image/png": "[encoded data removed]",
            "text/plain": [
              "<Figure size 640x480 with 5 Axes>"
            ]
          },
          "metadata": {},
          "output_type": "display_data"
        }
      ],
      "source": [
        "def generate_images_diagonal_gaussian(ae_model, z_average, z_sigma, n_images=5):\n",
        "    \n",
        "    epsilon = torch.randn(n_images, ae_model.z_dim)  # FILL IN CODE HERE\n",
        "    z_generated = z_average + z_sigma * epsilon  # FILL IN CODE HERE\n",
        "    imgs_generated = ae_model.decoder(z_generated)  # FILL IN CODE HERE\n",
        "    return imgs_generated\n",
        "\n",
        "imgs_generated = generate_images_diagonal_gaussian(ae_model, z_average, z_sigma, n_images=5)\n",
        "imgs_generated = imgs_generated.reshape((5, n_channels, n_rows, n_cols))\n",
        "display_images(imgs_generated)\n"
      ]
    },
    {
      "attachments": {},
      "cell_type": "markdown",
      "metadata": {
        "id": "xiNaEgLIloeA"
      },
      "source": [
        "As you should be able to see, these results are not that good. Let's try a slightly more sophisticated model."
      ]
    },
    {
      "attachments": {},
      "cell_type": "markdown",
      "metadata": {
        "id": "WjVPfkRKYMSh"
      },
      "source": [
        "## 2.1 Non-diagonal Gaussian model\n",
        "\n",
        "The second model uses a non-diagonal covariance matrix $\\bf{C}$ in the multivariate Gaussian distribution. In the next cell, calculate the average and covariance matrix over several batches of latent codes.\n",
        "\n",
        "__NB__ You can use the ```torch.cov``` function. Make sure to put the data in the right format for this (see documentation : https://pytorch.org/docs/stable/generated/torch.cov.html)."
      ]
    },
    {
      "cell_type": "code",
      "execution_count": 37,
      "metadata": {
        "id": "ArXgre39CD2H"
      },
      "outputs": [
        {
          "name": "stdout",
          "output_type": "stream",
          "text": [
            "Average of latent codes: tensor([-7.9912, -6.9994,  2.3012,  0.3733,  5.6475,  6.5256,  0.9123, -1.1467,\n",
            "        -8.5851, -3.8351], grad_fn=<MeanBackward1>)\n",
            "Covariance matrix of latent codes: tensor([[ 60.2197,  14.5266, -23.3737,  11.8860,  -2.8902, -15.7523,  15.5243,\n",
            "          -6.2737, -14.5844,  11.2164],\n",
            "        [ 14.5266,  79.7533,   1.0681,  -6.4228,   7.1988, -42.5817, -14.2691,\n",
            "          -5.4425,  11.7323,  20.1277],\n",
            "        [-23.3737,   1.0681,  81.9588, -20.6834,  22.0913,   1.7433,  -1.8791,\n",
            "          30.3583, -12.5084, -15.4896],\n",
            "        [ 11.8860,  -6.4228, -20.6834,  43.6187,   4.1685,  -7.4793,   4.7596,\n",
            "          -2.7561,  -2.3109,   2.9699],\n",
            "        [ -2.8902,   7.1988,  22.0913,   4.1685,  56.4200, -32.6893,  18.7253,\n",
            "         -13.5922,  15.1658,   4.5007],\n",
            "        [-15.7523, -42.5817,   1.7433,  -7.4793, -32.6893, 100.2341,  -6.8660,\n",
            "           7.4285, -48.7773,   7.7404],\n",
            "        [ 15.5243, -14.2691,  -1.8791,   4.7596,  18.7253,  -6.8660,  58.3674,\n",
            "         -28.4950,   7.2062,  17.2927],\n",
            "        [ -6.2737,  -5.4425,  30.3583,  -2.7561, -13.5922,   7.4285, -28.4950,\n",
            "          95.4460, -46.0886, -35.8195],\n",
            "        [-14.5844,  11.7323, -12.5084,  -2.3109,  15.1658, -48.7773,   7.2062,\n",
            "         -46.0886,  87.2034, -16.2576],\n",
            "        [ 11.2164,  20.1277, -15.4896,   2.9699,   4.5007,   7.7404,  17.2927,\n",
            "         -35.8195, -16.2576, 119.7786]], grad_fn=<MeanBackward1>)\n"
          ]
        }
      ],
      "source": [
        "n_batches = np.floor(len(mnist_train_loader.dataset.indices) / batch_size).astype(int)\n",
        "\n",
        "z_average = torch.zeros(n_batches, ae_model.z_dim)\n",
        "z_covariance = torch.zeros(n_batches, ae_model.z_dim, ae_model.z_dim)\n",
        "\n",
        "for batch_idx, (data, _) in enumerate(mnist_train_loader):\n",
        "    z = ae_model.encoder(data)\n",
        "    z_average[batch_idx, :] = torch.mean(z, dim=0)  # FILL IN CODE HERE\n",
        "    z_covariance[batch_idx, :, :] = torch.cov(z.T) # FILL IN CODE HERE\n",
        "\n",
        "z_average = torch.mean(z_average, dim=0)  # FILL IN CODE HERE\n",
        "z_covariance = torch.mean(z_covariance, dim=0)  # FILL IN CODE HERE\n",
        "\n",
        "print(\"Average of latent codes:\", z_average)\n",
        "print(\"Covariance matrix of latent codes:\", z_covariance)\n"
      ]
    },
    {
      "attachments": {},
      "cell_type": "markdown",
      "metadata": {
        "id": "JhXU8cnTZ0E8"
      },
      "source": [
        "Now, generate some samples with this distribution. In this case, you will actually have to calculate the Cholesky decomposition and find $\\bf{L}$. For this, you can use \n",
        "\n",
        "- ```torch.linalg.cholesky```\n",
        "\n",
        "In this model, you will need to carry out matrix multiplication over a batch of latent codes, which is a bit more complicated than the previous naïve model (which used element-wise vector multiplication). So you have two options:\n",
        "\n",
        "- copy the matrix $\\bf{L}$ several times and carry out batch matrix multiplication\n",
        "- simply loop and carry out normal matrix multiplication to produce each image (this has the disadvantage of not taking advantage of any parallelisation, but it should not matter too much).\n",
        "\n",
        "In the first case, you can use the following functions:\n",
        "\n",
        "- ```torch.bmm```\n",
        "- ```torch.tile```\n",
        "\n",
        "Fill in the function to generate images using this model now:"
      ]
    },
    {
      "cell_type": "code",
      "execution_count": 109,
      "metadata": {
        "id": "zXGlJTZ7Z4ed"
      },
      "outputs": [
        {
          "data": {
            "image/png": "[encoded data removed]",
            "text/plain": [
              "<Figure size 640x480 with 5 Axes>"
            ]
          },
          "metadata": {},
          "output_type": "display_data"
        }
      ],
      "source": [
        "def generate_images_non_diagonal_gaussian(ae_model, z_average, z_covariance, n_images=5):\n",
        "\n",
        "    # Calculate Cholesky decomposition of covariance matrix: C = L L^T\n",
        "    # Make sure that the first dimension is the batch dimension (with batch size n_images)\n",
        "    # You can use the torch.unsqueeze function for this\n",
        "    L = torch.linalg.cholesky(z_covariance)  # FILL IN CODE HERE\n",
        "    L = L.unsqueeze(0).repeat(n_images, 1, 1)  # FILL IN CODE HERE\n",
        "\n",
        "    epsilon = torch.randn(n_images, ae_model.z_dim)  # FILL IN CODE HERE\n",
        "    z_generated = z_average.unsqueeze(0).repeat(n_images, 1) + torch.bmm(L, epsilon.unsqueeze(2)).squeeze(2)  # FILL IN CODE HERE\n",
        "    \n",
        "    imgs_generated = ae_model.decoder(z_generated)  # FILL IN CODE HERE\n",
        "    return (imgs_generated)\n",
        "\n",
        "imgs_generated = generate_images_non_diagonal_gaussian(ae_model, z_average, z_covariance, n_images=5)\n",
        "imgs_generated = imgs_generated.reshape((5, n_channels, n_rows, n_cols))\n",
        "display_images(imgs_generated)"
      ]
    },
    {
      "attachments": {},
      "cell_type": "markdown",
      "metadata": {
        "id": "qLtsdri6zKEm"
      },
      "source": [
        "You should see some improvement, but we can do better than this. Thus, we turn to the variational autoencoder."
      ]
    },
    {
      "attachments": {},
      "cell_type": "markdown",
      "metadata": {
        "id": "8UqeNhuSdnDt"
      },
      "source": [
        "# 3/ Variational autoencoder\n",
        "\n",
        "Now, we are going to create an variational autoencoder to carry out __image generation__. Let's first recall the idea of a variational autoencoder\n",
        "\n",
        "## Main idea\n",
        "\n",
        "The main idea is to create an autoencoder whose latent codes follow a certain distribution (a Gaussian distribution in practice). This is done with two tools : \n",
        "\n",
        "- A specific architecture, where the encoder produces the average and variance of the latent codes\n",
        "- A specially designed loss function\n",
        "\n",
        "Once the VAE is trained, it is possible to sample in the latent space by producing random normal variables and simply decoding.\n",
        "\n",
        "## Architecture\n",
        "\n",
        "The architecture of the VAE model is as follows:\n",
        "\n",
        "The encoder consists of:\n",
        "\n",
        "Encoder :\n",
        "- Flatten input\n",
        "- Dense layer $+$ ReLU\n",
        "- Dense layer $+$ ReLU\n",
        "- Dense layer (no non-linarity) to produce the average, Dense layer (no non-linarity) to produce the variance (these last two layers are in parallel)\n",
        "\n",
        "Decoder :\n",
        "- Dense layer $+$ ReLU\n",
        "- Dense layer $+$ ReLU\n",
        "- Dense layer $+$ Sigmoid Activation\n",
        "- Reshape, to size $28\\times 28\\times 1$\n",
        "\n",
        "\n",
        "## Variational Autoencoder loss\n",
        "\n",
        "Recall that for the VAE, the loss function is in fact a function to __maximise__. In fact, for implementation, you will see that it is easier to __minimise__ $-\\mathcal{L}$.\n",
        "\n",
        "In the case of an image which is represented by a set of __Bernoulli__ variables (which is relevant for mnist), the original loss function (to maximise) is written :\n",
        "\n",
        "\n",
        "\\begin{align}\n",
        "\\mathcal{L} &= \\log\\left(p_\\theta(x|z)\\right) - KL\\left( q_\\phi(z|x) \\; || \\; p_\\theta(z)\\right) \\\\\n",
        "    &= \\left(\\sum_{i} x_i \\log y_i + (1-x_i) \\log (1-y_i)\\right) - \\left(\\frac{1}{2} \\sum_j \\left( \\sigma_j^2 + \\mu_j^2 - \\log \\sigma_j^2 -1 \\right)\\right)\n",
        "\\end{align}\n",
        "\n",
        "\n",
        "where $i$ is summed over the image pixels, and $j$ is summed over the elements of the latent space. $\\sigma_j^2$ is the $j$th element of the latent space variance, and $\\mu_j$ is the $j$th element of the latent space mean.\n",
        "\n",
        "The left part of the loss (reconstruction error) can be implemented simply as the binary cross-entropy between the input x and the output y. Since we are __maximising__ $-$[binary cross-entropy] (look at the formula), this is equivalent to minimising the binary cross-entropy.\n",
        "\n",
        "For the right part of the equation (KL divergence), you need to implement it manually. \n",
        "\n",
        "The final loss is the average, over the batch size, of the sum of the reconstruction error (left part) and the KL divergence (right part). Be careful, in the formula, the sums over $i$ and $j$ are over the number of pixels and the number of latent elements, respectively. To achieve a sum rather than an average, you can use ```torch.nn.BCELoss(reduction='sum')()```, and the ```torch.sum()``` functions.\n",
        "\n",
        "As in the case of the normal autoencoder, you will need to flatten and then reshape the tensors at the beginning/end of the network."
      ]
    },
    {
      "cell_type": "code",
      "execution_count": 39,
      "metadata": {
        "id": "6siMHQLheM4T"
      },
      "outputs": [],
      "source": [
        "class VAE(torch.nn.Module):\n",
        "    def __init__(self, x_dim, h_dim1, h_dim2, z_dim, n_rows, n_cols, n_channels):\n",
        "        super(VAE, self).__init__()\n",
        "\n",
        "        self.n_rows = n_rows\n",
        "        self.n_cols = n_cols\n",
        "        self.n_channels = n_channels\n",
        "        self.n_pixels = (self.n_rows) * (self.n_cols)\n",
        "        self.z_dim = z_dim\n",
        "\n",
        "        # encoder part\n",
        "        self.fc1 = nn.Linear(x_dim, h_dim1)  # FILL IN CODE HERE\n",
        "        self.fc2 = nn.Linear(h_dim1, h_dim2)  # FILL IN CODE HERE\n",
        "        self.fc31 = nn.Linear(h_dim2, z_dim)  # FILL IN CODE HERE\n",
        "        self.fc32 = nn.Linear(h_dim2, z_dim)  # FILL IN CODE HERE\n",
        "        # decoder part\n",
        "        self.fc4 = nn.Linear(z_dim, h_dim2)  # FILL IN CODE HERE\n",
        "        self.fc5 = nn.Linear(h_dim2, h_dim1)  # FILL IN CODE HERE\n",
        "        self.fc6 = nn.Linear(h_dim1, x_dim)  # FILL IN CODE HERE\n",
        "\n",
        "    def encoder(self, x):\n",
        "        #x = x.view(-1, n_channels * n_rows * n_cols)\n",
        "        h = F.relu(self.fc1(x))  # FILL IN CODE HERE\n",
        "        h = F.relu(self.fc2(h))  # FILL IN CODE HERE\n",
        "        return self.fc31(h), self.fc32(h)  # mu, log_var\n",
        "\n",
        "    def decoder(self, z):\n",
        "        h = F.relu(self.fc4(z))  # FILL IN CODE HERE\n",
        "        h = F.relu(self.fc5(h))  # FILL IN CODE HERE\n",
        "        h = torch.sigmoid(self.fc6(h)).view(-1, self.n_channels, self.n_rows, self.n_cols)  # FILL IN CODE HERE\n",
        "        return h # FILL IN CODE HERE\n",
        "\n",
        "    def sampling(self, mu, log_var):\n",
        "        # this function samples a Gaussian distribution, with average (mu) and standard deviation specified (using log_var)\n",
        "        std = torch.exp(log_var / 2)  # FILL IN CODE HERE\n",
        "        eps = torch.randn_like(std)  # FILL IN CODE HERE\n",
        "        return eps.mul(std).add_(mu)  # return z sample\n",
        "\n",
        "    def forward(self, x):\n",
        "        z_mu, z_log_var = self.encoder(x.view(-1, n_channels * n_rows * n_cols))\n",
        "        z = self.sampling(z_mu, z_log_var)\n",
        "        return self.decoder(z), z_mu, z_log_var\n",
        "\n",
        "    def loss_function(self, x, y, mu, log_var):\n",
        "        reconstruction_error = torch.nn.BCELoss(reduction='sum')(y, x)  # FILL IN CODE HERE\n",
        "\n",
        "        KLD = -0.5 * torch.sum(1 + log_var - mu.pow(2) - log_var.exp())  # FILL IN CODE HERE\n",
        "\n",
        "        return (reconstruction_error + KLD) / x.shape[0]  # FILL IN CODE HERE\n"
      ]
    },
    {
      "attachments": {},
      "cell_type": "markdown",
      "metadata": {
        "id": "hk_9fDIphlsi"
      },
      "source": [
        "Now, create the model (similarly as above)"
      ]
    },
    {
      "cell_type": "code",
      "execution_count": 40,
      "metadata": {
        "id": "pVlpC2R3htyU"
      },
      "outputs": [],
      "source": [
        "# create model\n",
        "vae_dim_1 = ae_dim_1\n",
        "vae_dim_2 = ae_dim_2\n",
        "vae_model = VAE(x_dim=n_pixels, h_dim1= vae_dim_1, h_dim2=vae_dim_2, z_dim=z_dim,n_rows=n_rows,n_cols=n_cols,n_channels=n_channels)\n",
        "vae_optimizer = optim.Adam(vae_model.parameters())"
      ]
    },
    {
      "attachments": {},
      "cell_type": "markdown",
      "metadata": {
        "id": "NYKLF_oMh5HO"
      },
      "source": [
        "Finally, train the model. First modify the training function to the case of the vae."
      ]
    },
    {
      "cell_type": "code",
      "execution_count": 41,
      "metadata": {
        "id": "z6DjKTWmmssb"
      },
      "outputs": [],
      "source": [
        "def train_vae(vae_model, data_train_loader, epoch):\n",
        "    train_loss = 0\n",
        "    for batch_idx, (data, _) in enumerate(data_train_loader):\n",
        "        vae_optimizer.zero_grad()\n",
        "\n",
        "        # data = data.view(-1, n_channels * n_rows * n_cols)\n",
        "        y, z_mu, z_log_var = vae_model(data)  # FILL IN CODE HERE\n",
        "        loss_vae = vae_model.loss_function(data, y, z_mu, z_log_var)  # FILL IN CODE HERE\n",
        "        loss_vae.backward()\n",
        "        train_loss += loss_vae.item()\n",
        "        vae_optimizer.step()\n",
        "\n",
        "        if batch_idx % 100 == 0:\n",
        "            print('Train Epoch: {} [{}/{} ({:.0f}%)]\\tLoss: {:.6f}'.format(\n",
        "                epoch, batch_idx * len(data), len(data_train_loader.dataset),\n",
        "                100. * batch_idx / len(data_train_loader), loss_vae.item() / len(data)))\n",
        "    print('====> Epoch: {} Average loss: {:.4f}'.format(epoch, train_loss / len(data_train_loader.dataset)))\n"
      ]
    },
    {
      "cell_type": "code",
      "execution_count": 42,
      "metadata": {
        "id": "L9JUUs6Kh8HB"
      },
      "outputs": [
        {
          "name": "stdout",
          "output_type": "stream",
          "text": [
            "Train Epoch: 0 [0/1000 (0%)]\tLoss: 4.256998\n",
            "====> Epoch: 0 Average loss: 3.2781\n",
            "Train Epoch: 1 [0/1000 (0%)]\tLoss: 2.457382\n",
            "====> Epoch: 1 Average loss: 1.8608\n",
            "Train Epoch: 2 [0/1000 (0%)]\tLoss: 1.737534\n",
            "====> Epoch: 2 Average loss: 1.5480\n",
            "Train Epoch: 3 [0/1000 (0%)]\tLoss: 1.651993\n",
            "====> Epoch: 3 Average loss: 1.4843\n",
            "Train Epoch: 4 [0/1000 (0%)]\tLoss: 1.597711\n",
            "====> Epoch: 4 Average loss: 1.4725\n",
            "Train Epoch: 5 [0/1000 (0%)]\tLoss: 1.660550\n",
            "====> Epoch: 5 Average loss: 1.4612\n",
            "Train Epoch: 6 [0/1000 (0%)]\tLoss: 1.590022\n",
            "====> Epoch: 6 Average loss: 1.4401\n",
            "Train Epoch: 7 [0/1000 (0%)]\tLoss: 1.599225\n",
            "====> Epoch: 7 Average loss: 1.4250\n",
            "Train Epoch: 8 [0/1000 (0%)]\tLoss: 1.589097\n",
            "====> Epoch: 8 Average loss: 1.4227\n",
            "Train Epoch: 9 [0/1000 (0%)]\tLoss: 1.557083\n",
            "====> Epoch: 9 Average loss: 1.4127\n",
            "Train Epoch: 10 [0/1000 (0%)]\tLoss: 1.617246\n",
            "====> Epoch: 10 Average loss: 1.3985\n",
            "Train Epoch: 11 [0/1000 (0%)]\tLoss: 1.597458\n",
            "====> Epoch: 11 Average loss: 1.3902\n",
            "Train Epoch: 12 [0/1000 (0%)]\tLoss: 1.565199\n",
            "====> Epoch: 12 Average loss: 1.3742\n",
            "Train Epoch: 13 [0/1000 (0%)]\tLoss: 1.564724\n",
            "====> Epoch: 13 Average loss: 1.3626\n",
            "Train Epoch: 14 [0/1000 (0%)]\tLoss: 1.488895\n",
            "====> Epoch: 14 Average loss: 1.3545\n",
            "Train Epoch: 15 [0/1000 (0%)]\tLoss: 1.480810\n",
            "====> Epoch: 15 Average loss: 1.3417\n",
            "Train Epoch: 16 [0/1000 (0%)]\tLoss: 1.556401\n",
            "====> Epoch: 16 Average loss: 1.3363\n",
            "Train Epoch: 17 [0/1000 (0%)]\tLoss: 1.480101\n",
            "====> Epoch: 17 Average loss: 1.3256\n",
            "Train Epoch: 18 [0/1000 (0%)]\tLoss: 1.495270\n",
            "====> Epoch: 18 Average loss: 1.3106\n",
            "Train Epoch: 19 [0/1000 (0%)]\tLoss: 1.465387\n",
            "====> Epoch: 19 Average loss: 1.2916\n",
            "Train Epoch: 20 [0/1000 (0%)]\tLoss: 1.406053\n",
            "====> Epoch: 20 Average loss: 1.2794\n",
            "Train Epoch: 21 [0/1000 (0%)]\tLoss: 1.442162\n",
            "====> Epoch: 21 Average loss: 1.2557\n",
            "Train Epoch: 22 [0/1000 (0%)]\tLoss: 1.430360\n",
            "====> Epoch: 22 Average loss: 1.2501\n",
            "Train Epoch: 23 [0/1000 (0%)]\tLoss: 1.365206\n",
            "====> Epoch: 23 Average loss: 1.2325\n",
            "Train Epoch: 24 [0/1000 (0%)]\tLoss: 1.355937\n",
            "====> Epoch: 24 Average loss: 1.2228\n",
            "Train Epoch: 25 [0/1000 (0%)]\tLoss: 1.293956\n",
            "====> Epoch: 25 Average loss: 1.2081\n",
            "Train Epoch: 26 [0/1000 (0%)]\tLoss: 1.388238\n",
            "====> Epoch: 26 Average loss: 1.2065\n",
            "Train Epoch: 27 [0/1000 (0%)]\tLoss: 1.388726\n",
            "====> Epoch: 27 Average loss: 1.2003\n",
            "Train Epoch: 28 [0/1000 (0%)]\tLoss: 1.310796\n",
            "====> Epoch: 28 Average loss: 1.1920\n",
            "Train Epoch: 29 [0/1000 (0%)]\tLoss: 1.335310\n",
            "====> Epoch: 29 Average loss: 1.1741\n",
            "Train Epoch: 30 [0/1000 (0%)]\tLoss: 1.303747\n",
            "====> Epoch: 30 Average loss: 1.1695\n",
            "Train Epoch: 31 [0/1000 (0%)]\tLoss: 1.300347\n",
            "====> Epoch: 31 Average loss: 1.1611\n",
            "Train Epoch: 32 [0/1000 (0%)]\tLoss: 1.285511\n",
            "====> Epoch: 32 Average loss: 1.1493\n",
            "Train Epoch: 33 [0/1000 (0%)]\tLoss: 1.234936\n",
            "====> Epoch: 33 Average loss: 1.1455\n",
            "Train Epoch: 34 [0/1000 (0%)]\tLoss: 1.267172\n",
            "====> Epoch: 34 Average loss: 1.1366\n",
            "Train Epoch: 35 [0/1000 (0%)]\tLoss: 1.267667\n",
            "====> Epoch: 35 Average loss: 1.1150\n",
            "Train Epoch: 36 [0/1000 (0%)]\tLoss: 1.268268\n",
            "====> Epoch: 36 Average loss: 1.1001\n",
            "Train Epoch: 37 [0/1000 (0%)]\tLoss: 1.218689\n",
            "====> Epoch: 37 Average loss: 1.0862\n",
            "Train Epoch: 38 [0/1000 (0%)]\tLoss: 1.212543\n",
            "====> Epoch: 38 Average loss: 1.0720\n",
            "Train Epoch: 39 [0/1000 (0%)]\tLoss: 1.214821\n",
            "====> Epoch: 39 Average loss: 1.0530\n",
            "Train Epoch: 40 [0/1000 (0%)]\tLoss: 1.138520\n",
            "====> Epoch: 40 Average loss: 1.0463\n",
            "Train Epoch: 41 [0/1000 (0%)]\tLoss: 1.147525\n",
            "====> Epoch: 41 Average loss: 1.0303\n",
            "Train Epoch: 42 [0/1000 (0%)]\tLoss: 1.137552\n",
            "====> Epoch: 42 Average loss: 1.0223\n",
            "Train Epoch: 43 [0/1000 (0%)]\tLoss: 1.167088\n",
            "====> Epoch: 43 Average loss: 1.0208\n",
            "Train Epoch: 44 [0/1000 (0%)]\tLoss: 1.136359\n",
            "====> Epoch: 44 Average loss: 1.0051\n",
            "Train Epoch: 45 [0/1000 (0%)]\tLoss: 1.111705\n",
            "====> Epoch: 45 Average loss: 0.9945\n",
            "Train Epoch: 46 [0/1000 (0%)]\tLoss: 1.103784\n",
            "====> Epoch: 46 Average loss: 0.9934\n",
            "Train Epoch: 47 [0/1000 (0%)]\tLoss: 1.127935\n",
            "====> Epoch: 47 Average loss: 0.9890\n",
            "Train Epoch: 48 [0/1000 (0%)]\tLoss: 1.111572\n",
            "====> Epoch: 48 Average loss: 0.9774\n",
            "Train Epoch: 49 [0/1000 (0%)]\tLoss: 1.099578\n",
            "====> Epoch: 49 Average loss: 0.9625\n",
            "Train Epoch: 50 [0/1000 (0%)]\tLoss: 1.045028\n",
            "====> Epoch: 50 Average loss: 0.9649\n",
            "Train Epoch: 51 [0/1000 (0%)]\tLoss: 1.018983\n",
            "====> Epoch: 51 Average loss: 0.9597\n",
            "Train Epoch: 52 [0/1000 (0%)]\tLoss: 1.090374\n",
            "====> Epoch: 52 Average loss: 0.9591\n",
            "Train Epoch: 53 [0/1000 (0%)]\tLoss: 1.049444\n",
            "====> Epoch: 53 Average loss: 0.9521\n",
            "Train Epoch: 54 [0/1000 (0%)]\tLoss: 1.054453\n",
            "====> Epoch: 54 Average loss: 0.9521\n",
            "Train Epoch: 55 [0/1000 (0%)]\tLoss: 1.087820\n",
            "====> Epoch: 55 Average loss: 0.9500\n",
            "Train Epoch: 56 [0/1000 (0%)]\tLoss: 1.014486\n",
            "====> Epoch: 56 Average loss: 0.9445\n",
            "Train Epoch: 57 [0/1000 (0%)]\tLoss: 1.033494\n",
            "====> Epoch: 57 Average loss: 0.9334\n",
            "Train Epoch: 58 [0/1000 (0%)]\tLoss: 1.032569\n",
            "====> Epoch: 58 Average loss: 0.9298\n",
            "Train Epoch: 59 [0/1000 (0%)]\tLoss: 1.020296\n",
            "====> Epoch: 59 Average loss: 0.9309\n",
            "Train Epoch: 60 [0/1000 (0%)]\tLoss: 0.993486\n",
            "====> Epoch: 60 Average loss: 0.9219\n",
            "Train Epoch: 61 [0/1000 (0%)]\tLoss: 1.013839\n",
            "====> Epoch: 61 Average loss: 0.9217\n",
            "Train Epoch: 62 [0/1000 (0%)]\tLoss: 1.006508\n",
            "====> Epoch: 62 Average loss: 0.9097\n",
            "Train Epoch: 63 [0/1000 (0%)]\tLoss: 1.039190\n",
            "====> Epoch: 63 Average loss: 0.9165\n",
            "Train Epoch: 64 [0/1000 (0%)]\tLoss: 0.996190\n",
            "====> Epoch: 64 Average loss: 0.9101\n",
            "Train Epoch: 65 [0/1000 (0%)]\tLoss: 0.983326\n",
            "====> Epoch: 65 Average loss: 0.9042\n",
            "Train Epoch: 66 [0/1000 (0%)]\tLoss: 0.943166\n",
            "====> Epoch: 66 Average loss: 0.9011\n",
            "Train Epoch: 67 [0/1000 (0%)]\tLoss: 0.990966\n",
            "====> Epoch: 67 Average loss: 0.8923\n",
            "Train Epoch: 68 [0/1000 (0%)]\tLoss: 1.049464\n",
            "====> Epoch: 68 Average loss: 0.8927\n",
            "Train Epoch: 69 [0/1000 (0%)]\tLoss: 1.001177\n",
            "====> Epoch: 69 Average loss: 0.8935\n",
            "Train Epoch: 70 [0/1000 (0%)]\tLoss: 0.988899\n",
            "====> Epoch: 70 Average loss: 0.8927\n",
            "Train Epoch: 71 [0/1000 (0%)]\tLoss: 0.986588\n",
            "====> Epoch: 71 Average loss: 0.8876\n",
            "Train Epoch: 72 [0/1000 (0%)]\tLoss: 0.972244\n",
            "====> Epoch: 72 Average loss: 0.8806\n",
            "Train Epoch: 73 [0/1000 (0%)]\tLoss: 0.992988\n",
            "====> Epoch: 73 Average loss: 0.8780\n",
            "Train Epoch: 74 [0/1000 (0%)]\tLoss: 0.932087\n",
            "====> Epoch: 74 Average loss: 0.8710\n",
            "Train Epoch: 75 [0/1000 (0%)]\tLoss: 0.966727\n",
            "====> Epoch: 75 Average loss: 0.8709\n",
            "Train Epoch: 76 [0/1000 (0%)]\tLoss: 0.939406\n",
            "====> Epoch: 76 Average loss: 0.8645\n",
            "Train Epoch: 77 [0/1000 (0%)]\tLoss: 0.978254\n",
            "====> Epoch: 77 Average loss: 0.8641\n",
            "Train Epoch: 78 [0/1000 (0%)]\tLoss: 0.963618\n",
            "====> Epoch: 78 Average loss: 0.8653\n",
            "Train Epoch: 79 [0/1000 (0%)]\tLoss: 0.997240\n",
            "====> Epoch: 79 Average loss: 0.8608\n",
            "Train Epoch: 80 [0/1000 (0%)]\tLoss: 0.942478\n",
            "====> Epoch: 80 Average loss: 0.8606\n",
            "Train Epoch: 81 [0/1000 (0%)]\tLoss: 0.954607\n",
            "====> Epoch: 81 Average loss: 0.8547\n",
            "Train Epoch: 82 [0/1000 (0%)]\tLoss: 0.921295\n",
            "====> Epoch: 82 Average loss: 0.8471\n",
            "Train Epoch: 83 [0/1000 (0%)]\tLoss: 0.917228\n",
            "====> Epoch: 83 Average loss: 0.8498\n",
            "Train Epoch: 84 [0/1000 (0%)]\tLoss: 0.940883\n",
            "====> Epoch: 84 Average loss: 0.8458\n",
            "Train Epoch: 85 [0/1000 (0%)]\tLoss: 0.942077\n",
            "====> Epoch: 85 Average loss: 0.8447\n",
            "Train Epoch: 86 [0/1000 (0%)]\tLoss: 0.927587\n",
            "====> Epoch: 86 Average loss: 0.8409\n",
            "Train Epoch: 87 [0/1000 (0%)]\tLoss: 0.936504\n",
            "====> Epoch: 87 Average loss: 0.8422\n",
            "Train Epoch: 88 [0/1000 (0%)]\tLoss: 0.917395\n",
            "====> Epoch: 88 Average loss: 0.8346\n",
            "Train Epoch: 89 [0/1000 (0%)]\tLoss: 0.949202\n",
            "====> Epoch: 89 Average loss: 0.8297\n",
            "Train Epoch: 90 [0/1000 (0%)]\tLoss: 0.919559\n",
            "====> Epoch: 90 Average loss: 0.8303\n",
            "Train Epoch: 91 [0/1000 (0%)]\tLoss: 0.947654\n",
            "====> Epoch: 91 Average loss: 0.8310\n",
            "Train Epoch: 92 [0/1000 (0%)]\tLoss: 0.908671\n",
            "====> Epoch: 92 Average loss: 0.8270\n",
            "Train Epoch: 93 [0/1000 (0%)]\tLoss: 0.943521\n",
            "====> Epoch: 93 Average loss: 0.8228\n",
            "Train Epoch: 94 [0/1000 (0%)]\tLoss: 0.912316\n",
            "====> Epoch: 94 Average loss: 0.8212\n",
            "Train Epoch: 95 [0/1000 (0%)]\tLoss: 0.932466\n",
            "====> Epoch: 95 Average loss: 0.8206\n",
            "Train Epoch: 96 [0/1000 (0%)]\tLoss: 0.918727\n",
            "====> Epoch: 96 Average loss: 0.8161\n",
            "Train Epoch: 97 [0/1000 (0%)]\tLoss: 0.870066\n",
            "====> Epoch: 97 Average loss: 0.8096\n",
            "Train Epoch: 98 [0/1000 (0%)]\tLoss: 0.911816\n",
            "====> Epoch: 98 Average loss: 0.8119\n",
            "Train Epoch: 99 [0/1000 (0%)]\tLoss: 0.933077\n",
            "====> Epoch: 99 Average loss: 0.8150\n",
            "Train Epoch: 100 [0/1000 (0%)]\tLoss: 0.898838\n",
            "====> Epoch: 100 Average loss: 0.8052\n",
            "Train Epoch: 101 [0/1000 (0%)]\tLoss: 0.879203\n",
            "====> Epoch: 101 Average loss: 0.8062\n",
            "Train Epoch: 102 [0/1000 (0%)]\tLoss: 0.915343\n",
            "====> Epoch: 102 Average loss: 0.7977\n",
            "Train Epoch: 103 [0/1000 (0%)]\tLoss: 0.891582\n",
            "====> Epoch: 103 Average loss: 0.8016\n",
            "Train Epoch: 104 [0/1000 (0%)]\tLoss: 0.874500\n",
            "====> Epoch: 104 Average loss: 0.8022\n",
            "Train Epoch: 105 [0/1000 (0%)]\tLoss: 0.917639\n",
            "====> Epoch: 105 Average loss: 0.7988\n",
            "Train Epoch: 106 [0/1000 (0%)]\tLoss: 0.855023\n",
            "====> Epoch: 106 Average loss: 0.7993\n",
            "Train Epoch: 107 [0/1000 (0%)]\tLoss: 0.867428\n",
            "====> Epoch: 107 Average loss: 0.7899\n",
            "Train Epoch: 108 [0/1000 (0%)]\tLoss: 0.903965\n",
            "====> Epoch: 108 Average loss: 0.7886\n",
            "Train Epoch: 109 [0/1000 (0%)]\tLoss: 0.870868\n",
            "====> Epoch: 109 Average loss: 0.7854\n",
            "Train Epoch: 110 [0/1000 (0%)]\tLoss: 0.850161\n",
            "====> Epoch: 110 Average loss: 0.7865\n",
            "Train Epoch: 111 [0/1000 (0%)]\tLoss: 0.862001\n",
            "====> Epoch: 111 Average loss: 0.7826\n",
            "Train Epoch: 112 [0/1000 (0%)]\tLoss: 0.893718\n",
            "====> Epoch: 112 Average loss: 0.7867\n",
            "Train Epoch: 113 [0/1000 (0%)]\tLoss: 0.848587\n",
            "====> Epoch: 113 Average loss: 0.7791\n",
            "Train Epoch: 114 [0/1000 (0%)]\tLoss: 0.862528\n",
            "====> Epoch: 114 Average loss: 0.7815\n",
            "Train Epoch: 115 [0/1000 (0%)]\tLoss: 0.879881\n",
            "====> Epoch: 115 Average loss: 0.7817\n",
            "Train Epoch: 116 [0/1000 (0%)]\tLoss: 0.857187\n",
            "====> Epoch: 116 Average loss: 0.7736\n",
            "Train Epoch: 117 [0/1000 (0%)]\tLoss: 0.848293\n",
            "====> Epoch: 117 Average loss: 0.7757\n",
            "Train Epoch: 118 [0/1000 (0%)]\tLoss: 0.871782\n",
            "====> Epoch: 118 Average loss: 0.7721\n",
            "Train Epoch: 119 [0/1000 (0%)]\tLoss: 0.855238\n",
            "====> Epoch: 119 Average loss: 0.7739\n",
            "Train Epoch: 120 [0/1000 (0%)]\tLoss: 0.863514\n",
            "====> Epoch: 120 Average loss: 0.7734\n",
            "Train Epoch: 121 [0/1000 (0%)]\tLoss: 0.858272\n",
            "====> Epoch: 121 Average loss: 0.7689\n",
            "Train Epoch: 122 [0/1000 (0%)]\tLoss: 0.845033\n",
            "====> Epoch: 122 Average loss: 0.7662\n",
            "Train Epoch: 123 [0/1000 (0%)]\tLoss: 0.848040\n",
            "====> Epoch: 123 Average loss: 0.7671\n",
            "Train Epoch: 124 [0/1000 (0%)]\tLoss: 0.829367\n",
            "====> Epoch: 124 Average loss: 0.7633\n",
            "Train Epoch: 125 [0/1000 (0%)]\tLoss: 0.870480\n",
            "====> Epoch: 125 Average loss: 0.7593\n",
            "Train Epoch: 126 [0/1000 (0%)]\tLoss: 0.864449\n",
            "====> Epoch: 126 Average loss: 0.7584\n",
            "Train Epoch: 127 [0/1000 (0%)]\tLoss: 0.856829\n",
            "====> Epoch: 127 Average loss: 0.7610\n",
            "Train Epoch: 128 [0/1000 (0%)]\tLoss: 0.851002\n",
            "====> Epoch: 128 Average loss: 0.7571\n",
            "Train Epoch: 129 [0/1000 (0%)]\tLoss: 0.834737\n",
            "====> Epoch: 129 Average loss: 0.7572\n",
            "Train Epoch: 130 [0/1000 (0%)]\tLoss: 0.846067\n",
            "====> Epoch: 130 Average loss: 0.7549\n",
            "Train Epoch: 131 [0/1000 (0%)]\tLoss: 0.810294\n",
            "====> Epoch: 131 Average loss: 0.7517\n",
            "Train Epoch: 132 [0/1000 (0%)]\tLoss: 0.826925\n",
            "====> Epoch: 132 Average loss: 0.7450\n",
            "Train Epoch: 133 [0/1000 (0%)]\tLoss: 0.811004\n",
            "====> Epoch: 133 Average loss: 0.7437\n",
            "Train Epoch: 134 [0/1000 (0%)]\tLoss: 0.849095\n",
            "====> Epoch: 134 Average loss: 0.7505\n",
            "Train Epoch: 135 [0/1000 (0%)]\tLoss: 0.820272\n",
            "====> Epoch: 135 Average loss: 0.7410\n",
            "Train Epoch: 136 [0/1000 (0%)]\tLoss: 0.803346\n",
            "====> Epoch: 136 Average loss: 0.7414\n",
            "Train Epoch: 137 [0/1000 (0%)]\tLoss: 0.802904\n",
            "====> Epoch: 137 Average loss: 0.7424\n",
            "Train Epoch: 138 [0/1000 (0%)]\tLoss: 0.830794\n",
            "====> Epoch: 138 Average loss: 0.7428\n",
            "Train Epoch: 139 [0/1000 (0%)]\tLoss: 0.839460\n",
            "====> Epoch: 139 Average loss: 0.7345\n",
            "Train Epoch: 140 [0/1000 (0%)]\tLoss: 0.845331\n",
            "====> Epoch: 140 Average loss: 0.7367\n",
            "Train Epoch: 141 [0/1000 (0%)]\tLoss: 0.804107\n",
            "====> Epoch: 141 Average loss: 0.7371\n",
            "Train Epoch: 142 [0/1000 (0%)]\tLoss: 0.800250\n",
            "====> Epoch: 142 Average loss: 0.7334\n",
            "Train Epoch: 143 [0/1000 (0%)]\tLoss: 0.811941\n",
            "====> Epoch: 143 Average loss: 0.7372\n",
            "Train Epoch: 144 [0/1000 (0%)]\tLoss: 0.839135\n",
            "====> Epoch: 144 Average loss: 0.7337\n",
            "Train Epoch: 145 [0/1000 (0%)]\tLoss: 0.802104\n",
            "====> Epoch: 145 Average loss: 0.7322\n",
            "Train Epoch: 146 [0/1000 (0%)]\tLoss: 0.797339\n",
            "====> Epoch: 146 Average loss: 0.7279\n",
            "Train Epoch: 147 [0/1000 (0%)]\tLoss: 0.810742\n",
            "====> Epoch: 147 Average loss: 0.7311\n",
            "Train Epoch: 148 [0/1000 (0%)]\tLoss: 0.816612\n",
            "====> Epoch: 148 Average loss: 0.7282\n",
            "Train Epoch: 149 [0/1000 (0%)]\tLoss: 0.819628\n",
            "====> Epoch: 149 Average loss: 0.7314\n"
          ]
        }
      ],
      "source": [
        "# now train the model\n",
        "# n_epochs = 150\n",
        "for epoch in range(0, n_epochs):\n",
        "  train_vae(vae_model,mnist_train_loader,epoch)"
      ]
    },
    {
      "attachments": {},
      "cell_type": "markdown",
      "metadata": {
        "id": "uTfRje_AkKDr"
      },
      "source": [
        "Now, generate some images with the VAE model"
      ]
    },
    {
      "cell_type": "code",
      "execution_count": 117,
      "metadata": {
        "id": "41tXdNsFkKk5"
      },
      "outputs": [
        {
          "data": {
            "image/png": "[encoded data removed]",
            "text/plain": [
              "<Figure size 640x480 with 5 Axes>"
            ]
          },
          "metadata": {},
          "output_type": "display_data"
        }
      ],
      "source": [
        "def generate_images_vae(vae_model,n_images = 5):\n",
        "\n",
        "  epsilon = torch.randn(n_images, vae_model.z_dim) # FILL IN CODE HERE\n",
        "  imgs_generated = vae_model.decoder(epsilon) # FILL IN CODE HERE\n",
        "  return(imgs_generated)\n",
        "\n",
        "imgs_generated = generate_images_vae(vae_model,n_images=5)\n",
        "imgs_generated = imgs_generated.reshape((5, n_channels, n_rows, n_cols))\n",
        "display_images(imgs_generated)"
      ]
    },
    {
      "attachments": {},
      "cell_type": "markdown",
      "metadata": {
        "id": "lGnvKoynzaFN"
      },
      "source": [
        "Do you think the results are better ? What difference can you see ? What advantage does the Variational Autoencoder have over the simple autoencoder model, even though the second autoencoder approach has a more complex probabilistic latent model (a full covariance matrix) ?"
      ]
    },
    {
      "attachments": {},
      "cell_type": "markdown",
      "metadata": {
        "id": "uuYn3_PBzjkI"
      },
      "source": [
        "__Answer:__ Yes, the results are better. The images are clearer and the digits are more accurately reconstructed, realistic and diverse. However, the images are a bit blurry, as expected. AEs can sometimes generate images with slightly blurry details, as they try to optimize a balance between the reconstruction error and the regularization term in their loss function.\n",
        "\n",
        "The VAE has several advantages over simpler autoencoder models. VAEs regularize the latent space by enforcing a Gaussian distribution, which helps prevent overfitting and ensures a smooth latent space, facilitating easier sampling and generation of new data points. Additionally, it learns a structured latent space, allowing it to capture complex relationships and generate diverse samples. VAEs are also more robust to missing data, making them suitable for applications with incomplete data. Futhermore, VAEs offer advanced generative capabilities, enabling novel data point sampling for applications like image synthesis."
      ]
    },
    {
      "attachments": {},
      "cell_type": "markdown",
      "metadata": {
        "id": "uXm-D9Ef9vYm"
      },
      "source": [
        "We will now compare the models quantitavely."
      ]
    },
    {
      "attachments": {},
      "cell_type": "markdown",
      "metadata": {
        "id": "04MddkzuE324"
      },
      "source": [
        "# 3 Evaluating and comparing the models\n",
        "\n",
        "We will evaluate the models, in the following manner:\n",
        "\n",
        "- we train a simple convolutional neural network classifier on mnist, to a good accuracy\n",
        "- we generate images with each model\n",
        "- we find the average of the highest probability of the images according to the classifier, for each model. If this value is high, it means that on average the classifier considers that the images look like a \n",
        "\n",
        "We will use the following convoluional architecture for the classifier:\n",
        "\n",
        "- conv2d, filter size  3×3 , 32 filters, stride=(2,2), padding=\"SAME\"\n",
        "- ReLU\n",
        "- conv2d, filter size  3×3 , 32 filters, stride=(2,2), padding=\"SAME\"\n",
        "- ReLU\n",
        "- MaxPool2D, stride=(2,2)\n",
        "- Flatten\n",
        "- Dense layer\n",
        "\n",
        "Now, define the model. To make things easier, use the ```torch.nn.Sequential``` API (there is no need for a Class in this simple case)."
      ]
    },
    {
      "cell_type": "code",
      "execution_count": 49,
      "metadata": {
        "id": "P87a-DkXFOCv"
      },
      "outputs": [],
      "source": [
        "learning_rate = 0.01\n",
        "n_epochs = 20\n",
        "batch_size = 64\n",
        "nb_classes = int(mnist_trainset.targets.max()+1)\n",
        "\n",
        "# number of convolutional filters to use\n",
        "nb_filters = 32\n",
        "# convolution kernel size\n",
        "kernel_size = (3, 3)\n",
        "# size of pooling area for max pooling\n",
        "pool_size = (2, 2)\n",
        "\n",
        "# --- Size of the successive layers\n",
        "n_h_0 = 1 #greyscale input images\n",
        "n_h_1 = nb_filters\n",
        "n_h_2 = nb_filters\n",
        "\n",
        "mnist_classification_model = nn.Sequential(\n",
        "    nn.Conv2d(n_h_0, n_h_1, kernel_size, stride=1, padding=\"same\"),\n",
        "    nn.ReLU(),\n",
        "    nn.Conv2d(n_h_1, n_h_2, kernel_size, stride=1, padding=\"same\"),\n",
        "    nn.ReLU(),\n",
        "    nn.MaxPool2d(pool_size, stride=(2, 2)),\n",
        "    nn.Flatten(),\n",
        "    nn.Linear(14*14*n_h_2, nb_classes)\n",
        ")\n",
        "\n",
        "criterion = torch.nn.CrossEntropyLoss() # FILL IN CODE HERE\n",
        "optimizer = torch.optim.Adam(mnist_classification_model.parameters(), lr=learning_rate)"
      ]
    },
    {
      "attachments": {},
      "cell_type": "markdown",
      "metadata": {
        "id": "_sUZONxw2bnt"
      },
      "source": [
        "Create a function to calculate accuracy, instead of loss"
      ]
    },
    {
      "cell_type": "code",
      "execution_count": 50,
      "metadata": {
        "id": "aOww0ydr2fT0"
      },
      "outputs": [],
      "source": [
        "def get_accuracy(x_pred,x_label):\n",
        "  acc = torch.sum(x_pred == x_label)/(x_pred.shape[0])\n",
        "  return acc"
      ]
    },
    {
      "attachments": {},
      "cell_type": "markdown",
      "metadata": {
        "id": "qw0vkZIqFcse"
      },
      "source": [
        "Now, train the model. You should be able to achieve an accuracy close to 1.00 within 20 epochs"
      ]
    },
    {
      "cell_type": "code",
      "execution_count": 51,
      "metadata": {
        "id": "0FA8YoX2FcHP"
      },
      "outputs": [
        {
          "name": "stdout",
          "output_type": "stream",
          "text": [
            "Epoch:0 Train Loss:0.0120 Accuracy:0.6016\n",
            "Epoch:1 Train Loss:0.0053 Accuracy:0.7266\n",
            "Epoch:2 Train Loss:0.0027 Accuracy:0.8828\n",
            "Epoch:3 Train Loss:0.0022 Accuracy:0.9297\n",
            "Epoch:4 Train Loss:0.0015 Accuracy:0.9531\n",
            "Epoch:5 Train Loss:0.0007 Accuracy:0.9844\n",
            "Epoch:6 Train Loss:0.0009 Accuracy:0.9688\n",
            "Epoch:7 Train Loss:0.0002 Accuracy:0.9922\n",
            "Epoch:8 Train Loss:0.0001 Accuracy:1.0000\n",
            "Epoch:9 Train Loss:0.0001 Accuracy:1.0000\n",
            "Epoch:10 Train Loss:0.0000 Accuracy:1.0000\n",
            "Epoch:11 Train Loss:0.0000 Accuracy:1.0000\n",
            "Epoch:12 Train Loss:0.0000 Accuracy:1.0000\n",
            "Epoch:13 Train Loss:0.0000 Accuracy:1.0000\n",
            "Epoch:14 Train Loss:0.0000 Accuracy:1.0000\n",
            "Epoch:15 Train Loss:0.0000 Accuracy:1.0000\n",
            "Epoch:16 Train Loss:0.0000 Accuracy:1.0000\n",
            "Epoch:17 Train Loss:0.0000 Accuracy:1.0000\n",
            "Epoch:18 Train Loss:0.0000 Accuracy:1.0000\n",
            "Epoch:19 Train Loss:0.0000 Accuracy:1.0000\n"
          ]
        }
      ],
      "source": [
        "train_losses=[]\n",
        "valid_losses=[]\n",
        "\n",
        "for epoch in range(0,n_epochs):\n",
        "  train_loss=0.0\n",
        "\n",
        "  for batch_idx, (imgs, labels) in enumerate(mnist_train_loader):\n",
        "\n",
        "    # set the gradients back to 0\n",
        "    optimizer.zero_grad()\n",
        "    predict=mnist_classification_model(imgs)\n",
        "    # apply loss function\n",
        "    loss=criterion(predict,labels)\n",
        "    acc = get_accuracy(torch.argmax(predict,dim=1),labels)\n",
        "    # backpropagation\n",
        "    loss.backward()\n",
        "    optimizer.step()\n",
        "    train_loss=loss.item()\n",
        "  print('Epoch:{} Train Loss:{:.4f} Accuracy:{:.4f}'.format(epoch,train_loss/imgs.shape[0],acc))"
      ]
    },
    {
      "attachments": {},
      "cell_type": "markdown",
      "metadata": {
        "id": "zFgN5LblFwTa"
      },
      "source": [
        "### Evaluate the average maximum prediction of the images generated by each generative model (higher is better)\n",
        "\n",
        "Now, we will evaluate the models. For each ones, produce a certain number of images, and put those images through the classification network. Then find the maximum class probability of each image, and average it over all the images. We will use this as a metric to evaluate each model.\n",
        "\n",
        "__CAREFUL__: the output of the network does __not__ include the Softmax layer, so you will have to carry it out, with:\n",
        "- ```torch.nn.Softmax()(...)```\n",
        "\n",
        "Define this metric now:"
      ]
    },
    {
      "cell_type": "code",
      "execution_count": 83,
      "metadata": {
        "id": "lCJ_0qqjOXHT"
      },
      "outputs": [],
      "source": [
        "def generative_model_score(imgs_in,classification_model):\n",
        "  gen_score = torch.mean(torch.max(F.softmax(classification_model(imgs_in), dim=1), dim=1).values) # FILL IN CODE HERE\n",
        "  return(gen_score)"
      ]
    },
    {
      "attachments": {},
      "cell_type": "markdown",
      "metadata": {
        "id": "yGq7YFg51UoP"
      },
      "source": [
        "Now, generate some images with each of the three models, and evaluate these models:"
      ]
    },
    {
      "cell_type": "code",
      "execution_count": 132,
      "metadata": {
        "id": "4-L4u2jhILFx"
      },
      "outputs": [
        {
          "name": "stdout",
          "output_type": "stream",
          "text": [
            "Diagonal gaussian generative model score :  0.8787621259689331\n",
            "Non diagonal gaussian generative model score :  0.9470975995063782\n",
            "Variational autoencoder model score:  0.9137097001075745\n"
          ]
        }
      ],
      "source": [
        "imgs_diagonal_gaussian = generate_images_diagonal_gaussian(ae_model,z_average,z_sigma,n_images = 50)\n",
        "imgs_non_diagonal_gaussian = generate_images_non_diagonal_gaussian(ae_model,z_average,z_covariance,n_images = 50)\n",
        "imgs_vae = generate_images_vae(vae_model,n_images=50)\n",
        "\n",
        "# average of maximum of first model \n",
        "diagonal_gaussian_score = float(generative_model_score(imgs_diagonal_gaussian,mnist_classification_model))\n",
        "non_diagonal_gaussian_score = float(generative_model_score(imgs_non_diagonal_gaussian,mnist_classification_model))\n",
        "vae_gaussian_score = float(generative_model_score(imgs_vae,mnist_classification_model))\n",
        "\n",
        "print(\"Diagonal gaussian generative model score : \",diagonal_gaussian_score)\n",
        "print(\"Non diagonal gaussian generative model score : \",non_diagonal_gaussian_score)\n",
        "print(\"Variational autoencoder model score: \",vae_gaussian_score) "
      ]
    },
    {
      "attachments": {},
      "cell_type": "markdown",
      "metadata": {
        "id": "sxvsG8FC1gNS"
      },
      "source": [
        "Please answer the following questions:\n",
        "\n",
        "- Which model is better quantitatively ? \n",
        "\n",
        "**Answer:** Quantitatively, the Non diagonal gaussian generative model performs the best among the three models. However, this result changes according to the set evaluated. \n",
        "\n",
        "- Do the quantitative result support the qualitative results ?\n",
        "\n",
        "**Answer:** No. The result of the diagonal gaussian generative model is clearly poorer than the other two models, but quantitatively the results do not differ that much. In addition, depending on the set evaluated the Diagonal and Non-diagonal gaussian models may present higher score than the VAE model, which is not consistent with the qualitative results.\n",
        "\n",
        "- Can you see any drawbacks of this method of evaluation ?\n",
        "\n",
        "**Answer:** The method consists in generate a set of images using a generative model (diagonal Gaussian model, diagonal Gaussian model or Variational Autoencoder); pass each generated image through a pre-trained classification model (as MNIST digits); for each image, find the maximum class probability predicted by the classification model (this value represents the confidence of the classification model in assigning the image to a specific class); calculate the average of these maximum class probabilities across all generated images. \n",
        "\n",
        "The resulting value represents the average maximum prediction of the images generated by a specific generative model. A higher value indicates that the generative model produces images that are more recognizable and confidently classified by the classification model. In other words, the images generated by the model are more likely to resemble the real data (in this case, the MNIST digits) and are less likely to be ambiguous or distorted.\n",
        "\n",
        "However, there are some problems with this method. The metric focuses on the maximum class probability, which means it could be sensitive to overconfident predictions by the classification model. If the classification model tends to assign high probabilities to specific classes, even when the generated images are not very realistic, the metric could be biased and overestimate the quality of the generative model.\n",
        "\n",
        "In addition, the metric only evaluates the recognizability of the generated images, but not their diversity. A generative model could produce a limited set of highly recognizable images, resulting in a high average maximum prediction score, but it might not capture the true diversity of the real data distribution. Also, it does not provide a direct measure of the visual quality, structure, or other important aspects of the generated images, since it indirectly measures the quality of the generated images through the classification model's predictions.\n",
        "\n",
        "\n",
        "- Can you propose any more sophisticated models than the multivariate Gaussian approach (apart from the variational autoencoder) ? \n",
        "\n",
        "**Answer:** There are several more sophisticated generative models beyond the multivariate Gaussian approach, such as Normalizing Flows. Normalizing Flows are a class of generative models that learn an invertible mapping between a simple distribution (e.g., Gaussian) and a more complex data distribution. They can model complex and high-dimensional distributions by composing multiple invertible transformations. This approach allows for efficient sampling, density estimation, and inference."
      ]
    }
  ],
  "metadata": {
    "accelerator": "GPU",
    "colab": {
      "provenance": []
    },
    "kernelspec": {
      "display_name": "Python 3",
      "name": "python3"
    },
    "language_info": {
      "codemirror_mode": {
        "name": "ipython",
        "version": 3
      },
      "file_extension": ".py",
      "mimetype": "text/x-python",
      "name": "python",
      "nbconvert_exporter": "python",
      "pygments_lexer": "ipython3",
      "version": "3.9.15"
    }
  },
  "nbformat": 4,
  "nbformat_minor": 0
}
